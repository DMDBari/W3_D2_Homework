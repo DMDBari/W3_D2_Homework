{
 "cells": [
  {
   "cell_type": "markdown",
   "metadata": {},
   "source": [
    "#### Exercise 1 - Class Inheritance"
   ]
  },
  {
   "cell_type": "markdown",
   "metadata": {},
   "source": [
    "Create an Employee class that sets an employee's first name, last name, job title, salary, and email. The Employee class should have a class attribute for the raise amount set to 5% (1.05). Create a method that will apply the raise to an employee's salary."
   ]
  },
  {
   "cell_type": "code",
   "execution_count": 10,
   "metadata": {},
   "outputs": [],
   "source": [
    "# Write the Employee Parent Class Here\n",
    "\n",
    "class Employee:\n",
    "\n",
    "    def __init__(self, first, last, title, salary,):\n",
    "        self.raise_amount = 1.05\n",
    "        self.first = first.title()\n",
    "        self.last = last.title()\n",
    "        self.title = title\n",
    "        self.salary = salary\n",
    "        self.email = f\"{self.first.lower()}{self.last[0].lower()}@company.org\"\n",
    "        print(f\" Congratulations {first} {last} on being hired as a {title} team member with us!\\n Your starting salary is {salary} and your new email is {self.email}\\n We look forward to working with you!\")\n",
    "\n",
    "    def __str__(self):\n",
    "        return f\"{self.first} {self.last}\"\n",
    "\n",
    "    def pay_raise(self):\n",
    "        self.salary = self.salary * self.raise_amount\n",
    "        print(f\"Congratulations {self.first}!  Your new salary is ${self.salary}\")"
   ]
  },
  {
   "cell_type": "markdown",
   "metadata": {},
   "source": [
    "Create two more classes that inherit from the Employee class. One for Sales and one for Development. Both of these classes will have the same attributes as the Employee.<br>\n",
    "- For the Sales employees, add a phone number attribute on instantiation using the super method. \n",
    "- Create a method on the Sales class that will \"Send a Follow Up Email\". It should take in a customer name and \"send\" aka print a formatted email \"Dear *customer*, Thank you for your interest in our product. Please let me know if you have any questions. My email is *email* or my phone number is *phone number*. Thanks, *full name*\"\n",
    "- Create a method on the Development class called code that will print out \"*full name* is writing code\"."
   ]
  },
  {
   "cell_type": "code",
   "execution_count": 11,
   "metadata": {},
   "outputs": [],
   "source": [
    "# Write the Sales child Class Here\n",
    "class Sales(Employee):\n",
    "    def __init__(self, first, last, salary):\n",
    "        super().__init__(first, last, 'sales', salary)\n",
    "        ext = 1\n",
    "        self.phone_num = f'(573) 555-4242 ext.{str(ext).zfill(3)}'\n",
    "        ext += 1\n",
    "        print(f\"As a member of our sales team you are given the phone number {self.phone_num}\")\n",
    "    \n",
    "    def follow_up(self, customer):\n",
    "        print(f\"Dear {customer},\\nThank you for your interest in our product. Please let me know if you have any questions. My email is {self.email} or my phone number is {self.phone_num}.\\nThanks, {self}\")"
   ]
  },
  {
   "cell_type": "code",
   "execution_count": 12,
   "metadata": {},
   "outputs": [],
   "source": [
    "# Write the Development child Class Here\n",
    "class Development(Employee):\n",
    "    def __init__(self, first, last, salary):\n",
    "        super().__init__(first, last, 'development', salary)\n",
    "    \n",
    "    def code(self):\n",
    "        print(f\"{self} is writing code.\")\n",
    "\n"
   ]
  },
  {
   "cell_type": "markdown",
   "metadata": {},
   "source": [
    "- Create an instance of a Sales Employee with a salary of $50,000.\n",
    "- Send follow up emails to \"Mike O'Neil\" and \"Hannah Stern\"\n",
    "- Give the employee a raise and print the salary"
   ]
  },
  {
   "cell_type": "code",
   "execution_count": 13,
   "metadata": {},
   "outputs": [
    {
     "name": "stdout",
     "output_type": "stream",
     "text": [
      " Congratulations Emily Smith on being hired as a sales team member with us!\n",
      " Your starting salary is 50000 and your new email is emilys@company.org\n",
      " We look forward to working with you!\n",
      "As a member of our sales team you are given the phone number (573) 555-4242 ext.001\n"
     ]
    }
   ],
   "source": [
    "# Create the instance\n",
    "e1 = Sales('Emily', 'Smith', 50000)"
   ]
  },
  {
   "cell_type": "code",
   "execution_count": 15,
   "metadata": {},
   "outputs": [
    {
     "name": "stdout",
     "output_type": "stream",
     "text": [
      "Dear Mike,\n",
      "Thank you for your interest in our product. Please let me know if you have any questions. My email is emilys@company.org or my phone number is (573) 555-4242 ext.001.\n",
      "Thanks, Emily Smith\n"
     ]
    }
   ],
   "source": [
    "# Send follow up to Mike\n",
    "e1.follow_up(\"Mike\")"
   ]
  },
  {
   "cell_type": "code",
   "execution_count": 16,
   "metadata": {},
   "outputs": [
    {
     "name": "stdout",
     "output_type": "stream",
     "text": [
      "Dear Hannah,\n",
      "Thank you for your interest in our product. Please let me know if you have any questions. My email is emilys@company.org or my phone number is (573) 555-4242 ext.001.\n",
      "Thanks, Emily Smith\n"
     ]
    }
   ],
   "source": [
    "# Send follow up to Hannah\n",
    "e1.follow_up(\"Hannah\")"
   ]
  },
  {
   "cell_type": "code",
   "execution_count": 17,
   "metadata": {},
   "outputs": [
    {
     "name": "stdout",
     "output_type": "stream",
     "text": [
      "Congratulations Emily!  Your new salary is $52500.0\n"
     ]
    }
   ],
   "source": [
    "# Give the sales employee a raise\n",
    "e1.pay_raise()"
   ]
  },
  {
   "cell_type": "markdown",
   "metadata": {},
   "source": [
    "- Create an instance of a Development Employee with a salary of $100,000\n",
    "- Write some code with this employee\n",
    "- Give the employee a raise and print the salary"
   ]
  },
  {
   "cell_type": "code",
   "execution_count": 18,
   "metadata": {},
   "outputs": [
    {
     "name": "stdout",
     "output_type": "stream",
     "text": [
      " Congratulations Ron Johnson on being hired as a development team member with us!\n",
      " Your starting salary is 100000 and your new email is ronj@company.org\n",
      " We look forward to working with you!\n"
     ]
    }
   ],
   "source": [
    "# Create the instance\n",
    "e2 = Development(\"Ron\", \"Johnson\", 100000)"
   ]
  },
  {
   "cell_type": "code",
   "execution_count": 19,
   "metadata": {},
   "outputs": [
    {
     "name": "stdout",
     "output_type": "stream",
     "text": [
      "Ron Johnson is writing code.\n"
     ]
    }
   ],
   "source": [
    "# Write some code (call code method)\n",
    "e2.code()"
   ]
  },
  {
   "cell_type": "code",
   "execution_count": 20,
   "metadata": {},
   "outputs": [
    {
     "name": "stdout",
     "output_type": "stream",
     "text": [
      "Congratulations Ron!  Your new salary is $105000.0\n"
     ]
    }
   ],
   "source": [
    "# Give the dev employee a raise\n",
    "e2.pay_raise()"
   ]
  },
  {
   "cell_type": "markdown",
   "metadata": {},
   "source": [
    "#### Exercise 2 - Importing Modules"
   ]
  },
  {
   "cell_type": "markdown",
   "metadata": {},
   "source": [
    "In VS Code, create a module titled `geometry` and add two functions in there. One that will calculate the area of a circle given a radius. The second will find the hypotenuse of a right angle given the two sides. Import the module or the functions from the module and use it to find the answers to the below questions"
   ]
  },
  {
   "cell_type": "markdown",
   "metadata": {},
   "source": [
    "What is the area of a circle with a radius of 7cm?"
   ]
  },
  {
   "cell_type": "code",
   "execution_count": null,
   "metadata": {},
   "outputs": [],
   "source": [
    "# ~153.94"
   ]
  },
  {
   "cell_type": "markdown",
   "metadata": {},
   "source": [
    "What is the hypotenuse of a right angle with sides of 3in and 4in?"
   ]
  },
  {
   "cell_type": "code",
   "execution_count": null,
   "metadata": {},
   "outputs": [],
   "source": [
    "# 5 inches"
   ]
  }
 ],
 "metadata": {
  "kernelspec": {
   "display_name": "Python 3 (ipykernel)",
   "language": "python",
   "name": "python3"
  },
  "language_info": {
   "codemirror_mode": {
    "name": "ipython",
    "version": 3
   },
   "file_extension": ".py",
   "mimetype": "text/x-python",
   "name": "python",
   "nbconvert_exporter": "python",
   "pygments_lexer": "ipython3",
   "version": "3.10.9"
  }
 },
 "nbformat": 4,
 "nbformat_minor": 4
}
